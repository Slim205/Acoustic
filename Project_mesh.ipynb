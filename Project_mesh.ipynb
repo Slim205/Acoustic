{
  "nbformat": 4,
  "nbformat_minor": 0,
  "metadata": {
    "colab": {
      "provenance": [],
      "authorship_tag": "ABX9TyPz45/PtxdBxU41pQpadaGs",
      "include_colab_link": true
    },
    "kernelspec": {
      "name": "python3",
      "display_name": "Python 3"
    },
    "language_info": {
      "name": "python"
    }
  },
  "cells": [
    {
      "cell_type": "markdown",
      "metadata": {
        "id": "view-in-github",
        "colab_type": "text"
      },
      "source": [
        "<a href=\"https://colab.research.google.com/github/Slim205/Acoustic/blob/main/Project_mesh.ipynb\" target=\"_parent\"><img src=\"https://colab.research.google.com/assets/colab-badge.svg\" alt=\"Open In Colab\"/></a>"
      ]
    },
    {
      "cell_type": "markdown",
      "source": [
        "# Control of the numerical solution accuracy of acoustic wave by changing the quality of the mesh\n"
      ],
      "metadata": {
        "id": "OpSTA156HqRI"
      }
    },
    {
      "cell_type": "code",
      "source": [
        "import matplotlib.pyplot\n",
        "import matplotlib.pylab\n",
        "from mpl_toolkits.mplot3d import Axes3D\n",
        "import numpy\n",
        "import os\n",
        "import scipy.io\n",
        "import scipy.linalg\n",
        "import scipy.sparse\n",
        "import scipy.sparse.linalg\n",
        "import sys\n",
        "import matplotlib.pyplot as plt\n",
        "\n",
        "import numpy as np\n",
        "# MRG packages\n",
        "import solutions"
      ],
      "metadata": {
        "id": "a3sbI2ovIMP1"
      },
      "execution_count": null,
      "outputs": []
    },
    {
      "cell_type": "markdown",
      "source": [
        "# Questions 1+2 :\n"
      ],
      "metadata": {
        "id": "ja7iJgnwIHSR"
      }
    },
    {
      "cell_type": "markdown",
      "source": [
        "# Quality Criteria for a Quadrangular Mesh\n",
        "\n"
      ],
      "metadata": {
        "id": "VDcuJiQoKptt"
      }
    },
    {
      "cell_type": "code",
      "source": [
        "def compute_aspect_ratio_of_element(node_coords, p_elem2nodes, elem2nodes,elem):\n",
        "    nodes=elem2nodes[p_elem2nodes[elem]:p_elem2nodes[elem+1]]\n",
        "    s=0\n",
        "    for i in range(4):\n",
        "      s+= np.sqrt(((node_coords[nodes[i]]-node_coords[nodes[(i+1)%4]])**2).sum())\n",
        "    return 1-s/4\n",
        "\n",
        "\n",
        "def compute_edge_length_factor_of_element(node_coords, p_elem2nodes, elem2nodes,elem):\n",
        "    nodes=elem2nodes[p_elem2nodes[elem]:p_elem2nodes[elem+1]]\n",
        "    l=[]\n",
        "    for i in range(4) :\n",
        "      l.append(np.sqrt(((node_coords[nodes[i]]-node_coords[nodes[(i+1)%4]])**2).sum()))\n",
        "    return min(l)*len(l)/sum(l)\n",
        "\n",
        "\n",
        "def compute_pointedness_of_element(node_coords, p_elem2nodes, elem2nodes,elem):\n",
        "    nodes=elem2nodes[p_elem2nodes[elem]:p_elem2nodes[elem+1]]\n",
        "    elem_coords= compute_barycenter_of_element(node_coords, p_elem2nodes, elem2nodes)\n",
        "    bary = elem_coords[elem]\n",
        "    l=[]\n",
        "    for i in range(4):\n",
        "        vect1 = node_coords[nodes[i]] - bary\n",
        "        vect2 = node_coords[nodes[(i+1)%4]] - bary\n",
        "        l.append(np.cross(vect1,vect2)[2])\n",
        "\n",
        "    return min(l)*4/sum(l)"
      ],
      "metadata": {
        "id": "Achr-yReImFj"
      },
      "execution_count": null,
      "outputs": []
    },
    {
      "cell_type": "code",
      "source": [
        "def run_exercise_a(n):\n",
        "    \"\"\"Generate grid with quadrangles.\n",
        "    \"\"\"\n",
        "    # -- generate grid with quadrangles\n",
        "    xmin, xmax, ymin, ymax = 0.0, 1.0, 0.0, 1.0\n",
        "    nelemsx, nelemsy = n,n\n",
        "    nelems = nelemsx * nelemsy\n",
        "    nnodes = (nelemsx + 1) * (nelemsy + 1)\n",
        "    # .. todo:: Modify the line below to call to generate a grid with quadrangles\n",
        "    # p_elem2nodes, elem2nodes, node_coords, node_l2g = my_set_quadmesh(...)\n",
        "    # .. note:: If you do not succeed, uncomment the following line to access the solution\n",
        "    node_coords, node_l2g, p_elem2nodes, elem2nodes = solutions._set_quadmesh(xmin, xmax, ymin, ymax, nelemsx, nelemsy)\n",
        "\n",
        "    elem = n\n",
        "    return compute_aspect_ratio_of_element(node_coords, p_elem2nodes, elem2nodes,elem) , compute_edge_length_factor_of_element(node_coords, p_elem2nodes, elem2nodes,elem)\n",
        "\n",
        "l = []\n",
        "p=[]\n",
        "n= 2\n",
        "x=[]\n",
        "for i in range(6) :\n",
        "    print(n)\n",
        "    n=2*n\n",
        "    l.append(run_exercise_a(n)[0])\n",
        "    p.append(run_exercise_a(n)[1])\n",
        "    x.append(n*n)\n",
        "print(run_exercise_a(16), 1-1/16, 1.)\n",
        "\n"
      ],
      "metadata": {
        "colab": {
          "base_uri": "https://localhost:8080/"
        },
        "id": "gB2GQYoaJQXD",
        "outputId": "899f0f0c-393e-4f0c-d787-0ea5608005e8"
      },
      "execution_count": null,
      "outputs": [
        {
          "output_type": "stream",
          "name": "stdout",
          "text": [
            "2\n",
            "4\n",
            "8\n",
            "16\n",
            "32\n",
            "64\n",
            "(0.9375, 1.0) 0.9375 1.0\n"
          ]
        }
      ]
    },
    {
      "cell_type": "markdown",
      "source": [
        "We verify that for a mesh containing an identical square element, the aspect ratio is equal to 1-1/n, and the edge length factor is equal to 1."
      ],
      "metadata": {
        "id": "vhsx4V_TJelc"
      }
    },
    {
      "cell_type": "code",
      "source": [
        "plt.plot(x,l)\n",
        "plt.xlabel('The number of element')\n",
        "plt.ylabel('Aspect ratio')\n",
        "plt.show()"
      ],
      "metadata": {
        "colab": {
          "base_uri": "https://localhost:8080/",
          "height": 449
        },
        "id": "gUwBm1oZQ7wL",
        "outputId": "d60b3aa7-2632-4e76-b808-7620277886ad"
      },
      "execution_count": null,
      "outputs": [
        {
          "output_type": "display_data",
          "data": {
            "text/plain": [
              "<Figure size 640x480 with 1 Axes>"
            ],
            "image/png": "[encoded data removed]"
          },
          "metadata": {}
        }
      ]
    },
    {
      "cell_type": "markdown",
      "source": [
        "The edge length factor of one element in our case does not depond of the shape of the mesh. However, the aspect ratio is increasing while the number of element is increasing."
      ],
      "metadata": {
        "id": "IwhZd4K7RW1Y"
      }
    },
    {
      "cell_type": "markdown",
      "source": [
        "## Quality Criteria for a Triangle Mesh"
      ],
      "metadata": {
        "id": "ojqm-_nsLMWn"
      }
    },
    {
      "cell_type": "code",
      "source": [
        "def compute_aspect_ratio_of_element_triangle(node_coords, p_elem2nodes, elem2nodes,elem):\n",
        "    nodes=elem2nodes[p_elem2nodes[elem]:p_elem2nodes[elem+1]]\n",
        "    l=[]\n",
        "    for i in range(3):\n",
        "      l.append(np.sqrt(((node_coords[nodes[i]]-node_coords[nodes[(i+1)%3]])**2).sum()))\n",
        "    h= max(l)\n",
        "    alpha = np.sqrt(3)/6\n",
        "    rau = (sum(l)-2*max(l))/2\n",
        "    return alpha*h/rau\n",
        "def compute_edge_length_factor_of_element_triangle(node_coords, p_elem2nodes, elem2nodes,elem):\n",
        "    nodes=elem2nodes[p_elem2nodes[elem]:p_elem2nodes[elem+1]]\n",
        "    l=[]\n",
        "    for i in range(3) :\n",
        "      l.append(np.sqrt(((node_coords[nodes[i]]-node_coords[nodes[(i+1)%3]])**2).sum()))\n",
        "    return min(l)*len(l)/sum(l)"
      ],
      "metadata": {
        "id": "lNLBv2VfLL5K"
      },
      "execution_count": null,
      "outputs": []
    },
    {
      "cell_type": "code",
      "source": [
        "\n",
        "def run_exercise_b():\n",
        "    \"\"\"Generate grid with triangles.\n",
        "    \"\"\"\n",
        "    # -- generate grid with triangles\n",
        "    xmin, xmax, ymin, ymax = 0.0, 1.0, 0.0, 1.0\n",
        "    n= 10\n",
        "    nelemsx, nelemsy = n, n\n",
        "    nelems = nelemsx * nelemsy * 2\n",
        "    nnodes = (nelemsx + 1) * (nelemsy + 1)\n",
        "    node_coords, node_l2g, p_elem2nodes, elem2nodes = solutions._set_trimesh(xmin, xmax, ymin, ymax, nelemsx, nelemsy)\n",
        "    nodes_on_boundary = solutions._set_trimesh_boundary(nelemsx, nelemsy)\n",
        "\n",
        "    # -- plot mesh\n",
        "    fig = matplotlib.pyplot.figure(1)\n",
        "    ax = matplotlib.pyplot.subplot(1, 1, 1)\n",
        "    ax.set_aspect('equal')\n",
        "    ax.axis('off')\n",
        "    solutions._plot_mesh(p_elem2nodes, elem2nodes, node_coords, color='yellow')\n",
        "\n",
        "    elem = n\n",
        "    print( compute_aspect_ratio_of_element_triangle(node_coords, p_elem2nodes, elem2nodes,elem) , 1/(np.sqrt(6)-np.sqrt(3)))\n",
        "\n",
        "    print( compute_edge_length_factor_of_element_triangle(node_coords, p_elem2nodes, elem2nodes,elem) , 3/(2+np.sqrt(2)))\n",
        "\n",
        "run_exercise_b()\n",
        "\n"
      ],
      "metadata": {
        "colab": {
          "base_uri": "https://localhost:8080/",
          "height": 441
        },
        "id": "JswlpA88MSMl",
        "outputId": "a5b5bfe3-d61f-4101-c5ab-39a609712485"
      },
      "execution_count": null,
      "outputs": [
        {
          "output_type": "stream",
          "name": "stdout",
          "text": [
            "1.3938468501173513 1.393846850117352\n",
            "0.8786796564403572 0.8786796564403575\n"
          ]
        },
        {
          "output_type": "display_data",
          "data": {
            "text/plain": [
              "<Figure size 640x480 with 1 Axes>"
            ],
            "image/png": "[encoded data removed]"
          },
          "metadata": {}
        }
      ]
    },
    {
      "cell_type": "markdown",
      "source": [
        "For a triangle mesh, it is verified that it does not depend on 'n' and is always equal to alpha times 2 divided by the square root of 2 minus 1. Additionally, the edge length factor is equal to 3 divided by 2 plus the square root of 2.\n"
      ],
      "metadata": {
        "id": "Iv9aL7QKJwHN"
      }
    },
    {
      "cell_type": "markdown",
      "source": [
        "# Question 3 :"
      ],
      "metadata": {
        "id": "cK0OhsHxO_yW"
      }
    },
    {
      "cell_type": "markdown",
      "source": [
        "I add an epsilon for the even rows or columns and -epsilon for the odd ones. Epsilon was chosen as 0.1/n with n being the size of the mesh."
      ],
      "metadata": {
        "id": "ekLIhmlISyTu"
      }
    },
    {
      "cell_type": "code",
      "source": [
        "def shift(node_coords, p_elem2nodes, elem2nodes):\n",
        "    n =  int(np.sqrt(p_elem2nodes.shape[0]))\n",
        "    nnodes = (n+1)**2\n",
        "    epsilon = 1/n * 0.1\n",
        "    b1 = [n+ i*(n+1) for i in range(n+1)]\n",
        "    b2 = [i for i in range(n+1)]\n",
        "    b3 = [(n+1)*n+ i for i in range(n+1)]\n",
        "    b4 = [ i*(n+1) for i in range(n+1)]\n",
        "    b = b1+b2+b3+b4\n",
        "    for i in range(nnodes) :\n",
        "      if i not in b :\n",
        "        x = (-1)**i * epsilon\n",
        "        for j in range(2):\n",
        "          node_coords[i][j]+= x\n",
        "    return node_coords, p_elem2nodes, elem2nodes"
      ],
      "metadata": {
        "id": "4-hl89qeSAME"
      },
      "execution_count": null,
      "outputs": []
    },
    {
      "cell_type": "code",
      "source": [
        "def run_exercise_a():\n",
        "    \"\"\"Generate grid with quadrangles.\n",
        "    \"\"\"\n",
        "    # -- generate grid with quadrangles\n",
        "    xmin, xmax, ymin, ymax = 0.0, 1.0, 0.0, 1.0\n",
        "    n = 16\n",
        "    nelemsx, nelemsy = n,n\n",
        "    nelems = nelemsx * nelemsy\n",
        "    nnodes = (nelemsx + 1) * (nelemsy + 1)\n",
        "\n",
        "    node_coords, node_l2g, p_elem2nodes, elem2nodes = solutions._set_quadmesh(xmin, xmax, ymin, ymax, nelemsx, nelemsy)\n",
        "\n",
        "    # -- plot mesh\n",
        "    fig = matplotlib.pyplot.figure(1)\n",
        "    ax = matplotlib.pyplot.subplot(1, 1, 1)\n",
        "    ax.set_aspect('equal')\n",
        "    ax.axis('off')\n",
        "    node_coords, p_elem2nodes, elem2nodes=shift(node_coords, p_elem2nodes, elem2nodes)\n",
        "\n",
        "    solutions._plot_mesh(p_elem2nodes, elem2nodes, node_coords, color='yellow')\n",
        "\n",
        "\n",
        "    return\n",
        "\n",
        "run_exercise_a()"
      ],
      "metadata": {
        "colab": {
          "base_uri": "https://localhost:8080/",
          "height": 406
        },
        "id": "eqtDmMV5SPac",
        "outputId": "4698922e-bc92-4db6-c6e4-2e989f25c5d1"
      },
      "execution_count": null,
      "outputs": [
        {
          "output_type": "display_data",
          "data": {
            "text/plain": [
              "<Figure size 640x480 with 1 Axes>"
            ],
            "image/png": "[encoded data removed]"
          },
          "metadata": {}
        }
      ]
    },
    {
      "cell_type": "markdown",
      "source": [
        "I choose it also to give another form of shifting by taking random values of epsilon (between -1/3n and 1/3n)."
      ],
      "metadata": {
        "id": "XCqFMuNAgjLI"
      }
    },
    {
      "cell_type": "code",
      "source": [
        "import random\n",
        "def shift_random(node_coords, p_elem2nodes, elem2nodes):\n",
        "    n =  int(np.sqrt(p_elem2nodes.shape[0]))\n",
        "    nnodes = (n+1)**2\n",
        "    b1 = [n+ i*(n+1) for i in range(n+1)]\n",
        "    b2 = [i for i in range(n+1)]\n",
        "    b3 = [(n+1)*n+ i for i in range(n+1)]\n",
        "    b4 = [ i*(n+1) for i in range(n+1)]\n",
        "    b = b1+b2+b3+b4\n",
        "    for i in range(nnodes) :\n",
        "      if i not in b :\n",
        "        x = (2*random.random()-1)/3/n\n",
        "        for j in range(2):\n",
        "          node_coords[i][j]+= x\n",
        "    return node_coords, p_elem2nodes, elem2nodes"
      ],
      "metadata": {
        "id": "hUy7Bcr8dJS1"
      },
      "execution_count": null,
      "outputs": []
    },
    {
      "cell_type": "code",
      "source": [
        "def run_exercise_a():\n",
        "    \"\"\"Generate grid with quadrangles.\n",
        "    \"\"\"\n",
        "    # -- generate grid with quadrangles\n",
        "    xmin, xmax, ymin, ymax = 0.0, 1.0, 0.0, 1.0\n",
        "    n = 16\n",
        "    nelemsx, nelemsy = n,n\n",
        "    nelems = nelemsx * nelemsy\n",
        "    nnodes = (nelemsx + 1) * (nelemsy + 1)\n",
        "\n",
        "    node_coords, node_l2g, p_elem2nodes, elem2nodes = solutions._set_quadmesh(xmin, xmax, ymin, ymax, nelemsx, nelemsy)\n",
        "\n",
        "    # -- plot mesh\n",
        "    fig = matplotlib.pyplot.figure(1)\n",
        "    ax = matplotlib.pyplot.subplot(1, 1, 1)\n",
        "    ax.set_aspect('equal')\n",
        "    ax.axis('off')\n",
        "    node_coords, p_elem2nodes, elem2nodes=shift_random(node_coords, p_elem2nodes, elem2nodes)\n",
        "\n",
        "    solutions._plot_mesh(p_elem2nodes, elem2nodes, node_coords, color='yellow')\n",
        "\n",
        "\n",
        "    return\n",
        "\n",
        "run_exercise_a()"
      ],
      "metadata": {
        "colab": {
          "base_uri": "https://localhost:8080/",
          "height": 406
        },
        "id": "sqzpnJqydSi9",
        "outputId": "bdae4802-2f55-4cb3-dd56-3e26955aa67b"
      },
      "execution_count": null,
      "outputs": [
        {
          "output_type": "display_data",
          "data": {
            "text/plain": [
              "<Figure size 640x480 with 1 Axes>"
            ],
            "image/png": "[encoded data removed]"
          },
          "metadata": {}
        }
      ]
    },
    {
      "cell_type": "markdown",
      "source": [
        "# Question 4 :"
      ],
      "metadata": {
        "id": "XhsZKiTga7Jl"
      }
    },
    {
      "cell_type": "code",
      "source": [
        "def run_exercise_a():\n",
        "    \"\"\"Generate grid with quadrangles.\n",
        "    \"\"\"\n",
        "    # -- generate grid with quadrangles\n",
        "    xmin, xmax, ymin, ymax = 0.0, 1.0, 0.0, 1.0\n",
        "    n = 200\n",
        "    nelemsx, nelemsy = n,n\n",
        "    nelems = nelemsx * nelemsy\n",
        "    nnodes = (nelemsx + 1) * (nelemsy + 1)\n",
        "\n",
        "    node_coords, node_l2g, p_elem2nodes, elem2nodes = solutions._set_quadmesh(xmin, xmax, ymin, ymax, nelemsx, nelemsy)\n",
        "\n",
        "\n",
        "    node_coords, p_elem2nodes, elem2nodes=shift_random(node_coords, p_elem2nodes, elem2nodes)\n",
        "\n",
        "    aspect_ratio=[compute_aspect_ratio_of_element(node_coords, p_elem2nodes, elem2nodes,elem) for elem in range(n*n)]\n",
        "    edge_length= [compute_edge_length_factor_of_element(node_coords, p_elem2nodes, elem2nodes,elem) for elem in range(n*n)]\n",
        "\n",
        "    return  aspect_ratio, edge_length\n",
        "\n",
        "\n",
        "aspect_ratio, edge_length = run_exercise_a()"
      ],
      "metadata": {
        "id": "wXLu83U6a61A"
      },
      "execution_count": null,
      "outputs": []
    },
    {
      "cell_type": "code",
      "source": [
        "plt.hist(aspect_ratio,40)\n",
        "plt.title('Aspect ratio')"
      ],
      "metadata": {
        "colab": {
          "base_uri": "https://localhost:8080/",
          "height": 469
        },
        "id": "x7WCNJlOeKI1",
        "outputId": "f470f2c1-cd4d-427c-ff42-2066773e110b"
      },
      "execution_count": null,
      "outputs": [
        {
          "output_type": "execute_result",
          "data": {
            "text/plain": [
              "Text(0.5, 1.0, 'Aspect ratio')"
            ]
          },
          "metadata": {},
          "execution_count": 65
        },
        {
          "output_type": "display_data",
          "data": {
            "text/plain": [
              "<Figure size 640x480 with 1 Axes>"
            ],
            "image/png": "[encoded data removed]"
          },
          "metadata": {}
        }
      ]
    },
    {
      "cell_type": "code",
      "source": [
        "plt.hist(edge_length,40)\n",
        "plt.title('Edge Length Factor')"
      ],
      "metadata": {
        "colab": {
          "base_uri": "https://localhost:8080/",
          "height": 469
        },
        "id": "tVnJk5rkeWoc",
        "outputId": "6a30f1b6-f775-4e27-a5af-e3b2f535f189"
      },
      "execution_count": null,
      "outputs": [
        {
          "output_type": "execute_result",
          "data": {
            "text/plain": [
              "Text(0.5, 1.0, 'Edge Length Factor')"
            ]
          },
          "metadata": {},
          "execution_count": 66
        },
        {
          "output_type": "display_data",
          "data": {
            "text/plain": [
              "<Figure size 640x480 with 1 Axes>"
            ],
            "image/png": "[encoded data removed]"
          },
          "metadata": {}
        }
      ]
    },
    {
      "cell_type": "markdown",
      "source": [
        "# Question 5 :"
      ],
      "metadata": {
        "id": "vt0cyHB-Smn7"
      }
    },
    {
      "cell_type": "code",
      "source": [
        "def compute_barycenter_of_element(node_coords, p_elem2nodes, elem2nodes):\n",
        "\n",
        "  spacedim = node_coords.shape[1]\n",
        "  nelems = p_elem2nodes.shape[0]-1\n",
        "  elem_coords = np.zeros((nelems,spacedim))\n",
        "  for i in range(nelems):\n",
        "    nodes = elem2nodes[p_elem2nodes[i]: p_elem2nodes[i+1]]\n",
        "    elem_coords[i,:] = np.average(node_coords[nodes,:],axis=0)\n",
        "  return elem_coords"
      ],
      "metadata": {
        "id": "HfIjNy71TUTO"
      },
      "execution_count": null,
      "outputs": []
    },
    {
      "cell_type": "code",
      "source": [
        "def run_exercise_a():\n",
        "    \"\"\"Generate grid with quadrangles.\n",
        "    \"\"\"\n",
        "    # -- generate grid with quadrangles\n",
        "    xmin, xmax, ymin, ymax = 0.0, 1.0, 0.0, 1.0\n",
        "    n = 16\n",
        "    nelemsx, nelemsy = n,n\n",
        "    nelems = nelemsx * nelemsy\n",
        "    nnodes = (nelemsx + 1) * (nelemsy + 1)\n",
        "    node_coords, node_l2g, p_elem2nodes, elem2nodes = solutions._set_quadmesh(xmin, xmax, ymin, ymax, nelemsx, nelemsy)\n",
        "\n",
        "    # -- plot mesh\n",
        "    fig = matplotlib.pyplot.figure(1)\n",
        "    ax = matplotlib.pyplot.subplot(1, 1, 1)\n",
        "    ax.set_aspect('equal')\n",
        "    ax.axis('off')\n",
        "\n",
        "    l_bary =compute_barycenter_of_element(node_coords, p_elem2nodes, elem2nodes)\n",
        "\n",
        "    solutions._plot_mesh(p_elem2nodes, elem2nodes, node_coords, color='yellow')\n",
        "    for i in range(len(l_bary)) :\n",
        "          solutions._plot_node(p_elem2nodes, elem2nodes, l_bary, i, color='orange')\n",
        "\n",
        "    return\n",
        "\n",
        "run_exercise_a()"
      ],
      "metadata": {
        "colab": {
          "base_uri": "https://localhost:8080/",
          "height": 406
        },
        "id": "Wkof40fTTZ_e",
        "outputId": "731d1e8b-adce-4f5a-a8bd-db8032709d23"
      },
      "execution_count": null,
      "outputs": [
        {
          "output_type": "display_data",
          "data": {
            "text/plain": [
              "<Figure size 640x480 with 1 Axes>"
            ],
            "image/png": "[encoded data removed]"
          },
          "metadata": {}
        }
      ]
    },
    {
      "cell_type": "markdown",
      "source": [
        "# Questions 6+7 :"
      ],
      "metadata": {
        "id": "06Xo6Af-UMb8"
      }
    },
    {
      "cell_type": "code",
      "source": [
        "\n",
        "def add_node_to_mesh(node_coords, p_elem2nodes, elem2nodes, nodeid_coords):\n",
        "    node_coords = np.vstack([node_coords, nodeid_coords])\n",
        "    return node_coords, p_elem2nodes, elem2nodes\n",
        "\n",
        "def add_elem_to_mesh(node_coords, p_elem2nodes, elem2nodes, elemid2nodes):\n",
        "\n",
        "    elem2nodes = np.append(elem2nodes, elemid2nodes)\n",
        "    p = elemid2nodes.shape[0]\n",
        "    x= p_elem2nodes[-1]\n",
        "    addd = np.array([x+p])\n",
        "    p_elem2nodes = np.append(p_elem2nodes, addd)\n",
        "    return node_coords, p_elem2nodes, elem2nodes\n",
        "\n",
        "def remove_node_to_mesh(node_coords, p_elem2nodes, elem2nodes, nodeid):\n",
        "    e2n_coef = numpy.ones(len(elem2nodes), dtype=numpy.int64)\n",
        "    e2n_mtx = scipy.sparse.csr_matrix((e2n_coef, elem2nodes, p_elem2nodes)) # (x,y) x : element, y : node\n",
        "        # node2elems connectivity matrix\n",
        "    e2n_mtx = e2n_mtx.tocsr()\n",
        "    # Find rows where the value in the 5th column is 1\n",
        "    rows_to_keep = np.where(e2n_mtx[:, nodeid].A.ravel() == 0)[0]\n",
        "    # Remove the specified rows\n",
        "    e2n_mtx = e2n_mtx[rows_to_keep]\n",
        "    p_elem2nodes = e2n_mtx.indptr\n",
        "    elem2nodes = e2n_mtx.indices\n",
        "    return node_coords, p_elem2nodes, elem2nodes\n",
        "\n",
        "\n",
        "def remove_elem_to_mesh(node_coords, p_elem2nodes, elem2nodes, elemid):\n",
        "    e2n_coef = numpy.ones(len(elem2nodes), dtype=numpy.int64)\n",
        "    e2n_mtx = scipy.sparse.csr_matrix((e2n_coef, elem2nodes, p_elem2nodes)) # (x,y) x : element, y : node\n",
        "        # node2elems connectivity matrix\n",
        "    e2n_mtx = e2n_mtx.tocsr()\n",
        "    e2n_mtx = e2n_mtx[np.arange(e2n_mtx.shape[0]) != elemid]\n",
        "\n",
        "    p_elem2nodes = e2n_mtx.indptr\n",
        "    elem2nodes = e2n_mtx.indices\n",
        "    return node_coords, p_elem2nodes, elem2nodes\n",
        "\n",
        "\n",
        "\n",
        "def quad_to_triang(node_coords, p_elem2nodes, elem2nodes):\n",
        "    nelems = p_elem2nodes.shape[0]-1\n",
        "    for i in range(nelems):\n",
        "      nodes = elem2nodes[p_elem2nodes[i]:p_elem2nodes[i+1]]\n",
        "      triangle2 = np.array([nodes[0],nodes[2],nodes[3],nodes[0]])\n",
        "      triangle1 = np.array([nodes[0],nodes[1],nodes[2],nodes[0]])\n",
        "      node_coords, p_elem2nodes, elem2nodes= add_elem_to_mesh(node_coords, p_elem2nodes, elem2nodes, triangle1)\n",
        "      node_coords, p_elem2nodes, elem2nodes= add_elem_to_mesh(node_coords, p_elem2nodes, elem2nodes, triangle2)\n",
        "    for i in range(nelems):\n",
        "      node_coords, p_elem2nodes, elem2nodes= remove_elem_to_mesh(node_coords, p_elem2nodes, elem2nodes,0)\n",
        "\n",
        "    return node_coords, p_elem2nodes, elem2nodes"
      ],
      "metadata": {
        "id": "ew_KV3c_qilp"
      },
      "execution_count": null,
      "outputs": []
    },
    {
      "cell_type": "code",
      "source": [
        "def run_exercise_a():\n",
        "    \"\"\"Generate grid with quadrangles.\n",
        "    \"\"\"\n",
        "    # -- generate grid with quadrangles\n",
        "    xmin, xmax, ymin, ymax = 0.0, 1.0, 0.0, 1.0\n",
        "    n = 16\n",
        "    nelemsx, nelemsy = n,n\n",
        "    nelems = nelemsx * nelemsy\n",
        "    nnodes = (nelemsx + 1) * (nelemsy + 1)\n",
        "\n",
        "    node_coords, node_l2g, p_elem2nodes, elem2nodes = solutions._set_quadmesh(xmin, xmax, ymin, ymax, nelemsx, nelemsy)\n",
        "\n",
        "    # -- plot mesh\n",
        "    fig = matplotlib.pyplot.figure(1)\n",
        "    ax = matplotlib.pyplot.subplot(1, 1, 1)\n",
        "    ax.set_aspect('equal')\n",
        "    ax.axis('off')\n",
        "\n",
        "    node_coords, p_elem2nodes, elem2nodes = quad_to_triang(node_coords, p_elem2nodes, elem2nodes)\n",
        "\n",
        "    solutions._plot_mesh(p_elem2nodes, elem2nodes, node_coords, color='yellow')\n",
        "    solutions._plot_elem(p_elem2nodes, elem2nodes, node_coords, 0, color='orange')\n",
        "\n",
        "\n",
        "    return\n",
        "\n",
        "\n",
        "\n",
        "run_exercise_a()\n"
      ],
      "metadata": {
        "colab": {
          "base_uri": "https://localhost:8080/",
          "height": 406
        },
        "id": "YG1QkKDCIUd2",
        "outputId": "2bc137e4-5bec-4bfe-f944-2d849f49d292"
      },
      "execution_count": null,
      "outputs": [
        {
          "output_type": "display_data",
          "data": {
            "text/plain": [
              "<Figure size 640x480 with 1 Axes>"
            ],
            "image/png": "[encoded data removed]"
          },
          "metadata": {}
        }
      ]
    },
    {
      "cell_type": "code",
      "source": [
        "def run_exercise_a():\n",
        "    \"\"\"Generate grid with quadrangles.\n",
        "    \"\"\"\n",
        "    # -- generate grid with quadrangles\n",
        "    xmin, xmax, ymin, ymax = 0.0, 1.0, 0.0, 1.0\n",
        "    n = 4\n",
        "    nelemsx, nelemsy = n,n\n",
        "    nelems = nelemsx * nelemsy\n",
        "    nnodes = (nelemsx + 1) * (nelemsy + 1)\n",
        "\n",
        "    node_coords, node_l2g, p_elem2nodes, elem2nodes = solutions._set_quadmesh(xmin, xmax, ymin, ymax, nelemsx, nelemsy)\n",
        "\n",
        "    # -- plot mesh\n",
        "    fig = matplotlib.pyplot.figure(1)\n",
        "    ax = matplotlib.pyplot.subplot(1, 1, 1)\n",
        "    ax.set_aspect('equal')\n",
        "    ax.axis('off')\n",
        "\n",
        "    node_coords, p_elem2nodes, elem2nodes = remove_elem_to_mesh(node_coords, p_elem2nodes, elem2nodes,4)\n",
        "\n",
        "    solutions._plot_mesh(p_elem2nodes, elem2nodes, node_coords, color='yellow')\n",
        "    solutions._plot_elem(p_elem2nodes, elem2nodes, node_coords, 4, color='orange')\n",
        "\n",
        "\n",
        "    return\n",
        "\n",
        "\n",
        "\n",
        "run_exercise_a()\n"
      ],
      "metadata": {
        "colab": {
          "base_uri": "https://localhost:8080/",
          "height": 406
        },
        "id": "d-_cOp3bVDZs",
        "outputId": "8e3c5e58-748d-4a40-b9a8-ebbec824092d"
      },
      "execution_count": null,
      "outputs": [
        {
          "output_type": "display_data",
          "data": {
            "text/plain": [
              "<Figure size 640x480 with 1 Axes>"
            ],
            "image/png": "[encoded data removed]"
          },
          "metadata": {}
        }
      ]
    },
    {
      "cell_type": "code",
      "source": [
        "def run_exercise_a():\n",
        "    \"\"\"Generate grid with quadrangles.\n",
        "    \"\"\"\n",
        "    # -- generate grid with quadrangles\n",
        "    xmin, xmax, ymin, ymax = 0.0, 1.0, 0.0, 1.0\n",
        "    n = 4\n",
        "    nelemsx, nelemsy = n,n\n",
        "    nelems = nelemsx * nelemsy\n",
        "    nnodes = (nelemsx + 1) * (nelemsy + 1)\n",
        "\n",
        "    node_coords, node_l2g, p_elem2nodes, elem2nodes = solutions._set_quadmesh(xmin, xmax, ymin, ymax, nelemsx, nelemsy)\n",
        "\n",
        "    # -- plot mesh\n",
        "    fig = matplotlib.pyplot.figure(1)\n",
        "    ax = matplotlib.pyplot.subplot(1, 1, 1)\n",
        "    ax.set_aspect('equal')\n",
        "    ax.axis('off')\n",
        "\n",
        "    node_coords, p_elem2nodes, elem2nodes = remove_node_to_mesh(node_coords, p_elem2nodes, elem2nodes,6)\n",
        "\n",
        "    solutions._plot_mesh(p_elem2nodes, elem2nodes, node_coords, color='yellow')\n",
        "\n",
        "\n",
        "    return\n",
        "\n",
        "\n",
        "run_exercise_a()\n"
      ],
      "metadata": {
        "colab": {
          "base_uri": "https://localhost:8080/",
          "height": 406
        },
        "id": "J_9kSKvMV1Pu",
        "outputId": "6e72d54d-b6fd-442b-f32d-b94f218b95ca"
      },
      "execution_count": null,
      "outputs": [
        {
          "output_type": "display_data",
          "data": {
            "text/plain": [
              "<Figure size 640x480 with 1 Axes>"
            ],
            "image/png": "[encoded data removed]"
          },
          "metadata": {}
        }
      ]
    },
    {
      "cell_type": "code",
      "source": [
        "def run_exercise_a():\n",
        "    \"\"\"Generate grid with quadrangles.\n",
        "    \"\"\"\n",
        "    # -- generate grid with quadrangles\n",
        "    xmin, xmax, ymin, ymax = 0.0, 1.0, 0.0, 1.0\n",
        "    n = 4\n",
        "    nelemsx, nelemsy = n,n\n",
        "    nelems = nelemsx * nelemsy\n",
        "    nnodes = (nelemsx + 1) * (nelemsy + 1)\n",
        "\n",
        "    node_coords, node_l2g, p_elem2nodes, elem2nodes = solutions._set_quadmesh(xmin, xmax, ymin, ymax, nelemsx, nelemsy)\n",
        "\n",
        "    # -- plot mesh\n",
        "    fig = matplotlib.pyplot.figure(1)\n",
        "    ax = matplotlib.pyplot.subplot(1, 1, 1)\n",
        "    ax.set_aspect('equal')\n",
        "    ax.axis('off')\n",
        "\n",
        "    node_coords, p_elem2nodes, elem2nodes = add_node_to_mesh(node_coords, p_elem2nodes, elem2nodes,np.array([1/n+1,0,0]))\n",
        "\n",
        "    solutions._plot_mesh(p_elem2nodes, elem2nodes, node_coords, color='yellow')\n",
        "\n",
        "    solutions._plot_node(p_elem2nodes, elem2nodes, node_coords,(n+1)*(n+1), color='red')\n",
        "\n",
        "    return\n",
        "\n",
        "\n",
        "run_exercise_a()\n"
      ],
      "metadata": {
        "colab": {
          "base_uri": "https://localhost:8080/",
          "height": 406
        },
        "id": "lBVi2jOrpe7n",
        "outputId": "e280a6ba-ef35-4a90-8fda-cf299c490422"
      },
      "execution_count": null,
      "outputs": [
        {
          "output_type": "display_data",
          "data": {
            "text/plain": [
              "<Figure size 640x480 with 1 Axes>"
            ],
            "image/png": "[encoded data removed]"
          },
          "metadata": {}
        }
      ]
    },
    {
      "cell_type": "code",
      "source": [
        "def run_exercise_a():\n",
        "    \"\"\"Generate grid with quadrangles.\n",
        "    \"\"\"\n",
        "    # -- generate grid with quadrangles\n",
        "    xmin, xmax, ymin, ymax = 0.0, 1.0, 0.0, 1.0\n",
        "    n = 4\n",
        "    nelemsx, nelemsy = n,n\n",
        "    nelems = nelemsx * nelemsy\n",
        "    nnodes = (nelemsx + 1) * (nelemsy + 1)\n",
        "\n",
        "    node_coords, node_l2g, p_elem2nodes, elem2nodes = solutions._set_quadmesh(xmin, xmax, ymin, ymax, nelemsx, nelemsy)\n",
        "\n",
        "    # -- plot mesh\n",
        "    fig = matplotlib.pyplot.figure(1)\n",
        "    ax = matplotlib.pyplot.subplot(1, 1, 1)\n",
        "    ax.set_aspect('equal')\n",
        "    ax.axis('off')\n",
        "\n",
        "    node_coords, p_elem2nodes, elem2nodes = add_node_to_mesh(node_coords, p_elem2nodes, elem2nodes,np.array([1/n+1,0,0]))\n",
        "    node_coords, p_elem2nodes, elem2nodes = add_node_to_mesh(node_coords, p_elem2nodes, elem2nodes,np.array([1/n+1,1/n,0]))\n",
        "    elem = [n,(n+1)**2,(n+1)**2+1,2*n+1]\n",
        "    node_coords, p_elem2nodes, elem2nodes = add_elem_to_mesh(node_coords, p_elem2nodes, elem2nodes,np.array(elem))\n",
        "\n",
        "    solutions._plot_mesh(p_elem2nodes, elem2nodes, node_coords, color='yellow')\n",
        "\n",
        "    for i in elem :\n",
        "          solutions._plot_node(p_elem2nodes, elem2nodes, node_coords,i, color='red')\n",
        "\n",
        "    solutions._plot_elem(p_elem2nodes, elem2nodes, node_coords,n*n, color='blue')\n",
        "\n",
        "\n",
        "    return\n",
        "\n",
        "\n",
        "run_exercise_a()\n"
      ],
      "metadata": {
        "colab": {
          "base_uri": "https://localhost:8080/",
          "height": 406
        },
        "id": "T4OdNFu-qEgh",
        "outputId": "5e2a64aa-73a8-4b76-f481-9ee2bf8d9381"
      },
      "execution_count": null,
      "outputs": [
        {
          "output_type": "display_data",
          "data": {
            "text/plain": [
              "<Figure size 640x480 with 1 Axes>"
            ],
            "image/png": "[encoded data removed]"
          },
          "metadata": {}
        }
      ]
    },
    {
      "cell_type": "markdown",
      "source": [
        "# Questions 8 :"
      ],
      "metadata": {
        "id": "ksdwGn0-WOSp"
      }
    },
    {
      "cell_type": "code",
      "source": [
        "import matplotlib.pyplot\n",
        "import matplotlib.pylab\n",
        "from mpl_toolkits.mplot3d import Axes3D\n",
        "import numpy\n",
        "import os\n",
        "import scipy.io\n",
        "import scipy.linalg\n",
        "import scipy.sparse\n",
        "import scipy.sparse.linalg\n",
        "import sys\n",
        "\n",
        "import numpy as np\n",
        "# MRG packages\n",
        "import solutions\n",
        "\n",
        "\n",
        "def add_node_to_mesh(node_coords, p_elem2nodes, elem2nodes, nodeid_coords):\n",
        "    node_coords = np.vstack([node_coords, nodeid_coords])\n",
        "    return node_coords, p_elem2nodes, elem2nodes\n",
        "\n",
        "def add_elem_to_mesh(node_coords, p_elem2nodes, elem2nodes, elemid2nodes):\n",
        "\n",
        "    elem2nodes = np.append(elem2nodes, elemid2nodes)\n",
        "    p = elemid2nodes.shape[0]\n",
        "    x= p_elem2nodes[-1]\n",
        "    addd = np.array([x+p])\n",
        "    p_elem2nodes = np.append(p_elem2nodes, addd)\n",
        "    return node_coords, p_elem2nodes, elem2nodes\n",
        "\n",
        "def remove_node_to_mesh(node_coords, p_elem2nodes, elem2nodes, nodeid):\n",
        "    e2n_coef = numpy.ones(len(elem2nodes), dtype=numpy.int64)\n",
        "    e2n_mtx = scipy.sparse.csr_matrix((e2n_coef, elem2nodes, p_elem2nodes)) # (x,y) x : element, y : node\n",
        "        # node2elems connectivity matrix\n",
        "    e2n_mtx = e2n_mtx.tocsr()\n",
        "# Find rows where the value in the 5th column is 1\n",
        "    rows_to_keep = np.where(e2n_mtx[:, nodeid].A.ravel() == 0)[0]\n",
        "# Remove the specified rows\n",
        "    e2n_mtx = e2n_mtx[rows_to_keep]\n",
        "    p_elem2nodes = e2n_mtx.indptr\n",
        "    elem2nodes = e2n_mtx.indices\n",
        "    return node_coords, p_elem2nodes, elem2nodes\n",
        "\n",
        "\n",
        "def remove_elem_to_mesh(node_coords, p_elem2nodes, elem2nodes, elemid):\n",
        "    e2n_coef = numpy.ones(len(elem2nodes), dtype=numpy.int64)\n",
        "    e2n_mtx = scipy.sparse.csr_matrix((e2n_coef, elem2nodes, p_elem2nodes))\n",
        "    e2n_mtx = e2n_mtx.tocsr()\n",
        "    e2n_mtx = e2n_mtx[np.arange(e2n_mtx.shape[0]) != elemid]\n",
        "\n",
        "    p_elem2nodes = e2n_mtx.indptr\n",
        "    elem2nodes = e2n_mtx.indices\n",
        "    return node_coords, p_elem2nodes, elem2nodes\n",
        "\n",
        "def compute_barycenter_of_element(node_coords, p_elem2nodes, elem2nodes):\n",
        "\n",
        "  spacedim = node_coords.shape[1]\n",
        "  nelems = p_elem2nodes.shape[0]-1\n",
        "  elem_coords = np.zeros((nelems,spacedim))\n",
        "  for i in range(nelems):\n",
        "    nodes = elem2nodes[p_elem2nodes[i]: p_elem2nodes[i+1]]\n",
        "    elem_coords[i,:] = np.average(node_coords[nodes,:],axis=0)\n",
        "  return elem_coords\n",
        "\n",
        "def fract_add(node_coords, p_elem2nodes, elem2nodes,elem,m,n) :\n",
        "    nodes = elem2nodes[p_elem2nodes[elem]:p_elem2nodes[elem+1]]\n",
        "    x= node_coords[nodes[1]][0]\n",
        "    y= node_coords[nodes[1]][1]\n",
        "    for i in range(m) :\n",
        "      p = len(node_coords)\n",
        "      nodeid_coords = np.array([[x+i/n,y,0],[x+(i+1)/n,y,0],[x+(i+1)/n,y+1/n,0],[x+i/n,y+1/n,0]])\n",
        "      node_coords, p_elem2nodes, elem2nodes = add_node_to_mesh(node_coords, p_elem2nodes, elem2nodes, nodeid_coords)\n",
        "      p1 = len(node_coords)\n",
        "      elimd2nodes = np.arange(p,p1)\n",
        "      node_coords, p_elem2nodes, elem2nodes= add_elem_to_mesh(node_coords, p_elem2nodes, elem2nodes, elimd2nodes)\n",
        "    return node_coords, p_elem2nodes, elem2nodes\n",
        "\n",
        "def fract(node_coords, p_elem2nodes, elem2nodes,n,lf0,level) :\n",
        "    lf = [ lf0[i*(n//(4**level)):(i+1)*(n//(4**level))] for i in range(4**level)]\n",
        "    n1=len(lf[0])\n",
        "    lf.sort(key=lambda x: x[-1])\n",
        "    for k in range(len(lf)-1,-1,-1) :\n",
        "      for i in range(n1//4*3-1,n1//4*2-1,-1) :\n",
        "        for j in range(n1//4) :\n",
        "          node_coords, p_elem2nodes, elem2nodes= remove_elem_to_mesh(node_coords, p_elem2nodes, elem2nodes,lf[k][i]-j)\n",
        "        lf[k][i]-= n1//4 * (i-n1//2+1)+(n1//4) *(n1//4)*k\n",
        "      for i in range(n1//4,(n1//4)*2):\n",
        "        node_coords, p_elem2nodes, elem2nodes= fract_add(node_coords, p_elem2nodes, elem2nodes,lf[k][i], n1//4,n)\n",
        "        lf[k][i] = n*n -1- (n1//4*2-i-1)*n1//4 -n1//4*(n1//4)*k\n",
        "      for i in range(n1//4*3,n1):\n",
        "        lf[k][i] -= (k+1)*(n1//4)*(n1//4)\n",
        "      for i in range(n1//4):\n",
        "        lf[k][i]-= (n1//4)*(n1//4)*k\n",
        "    l=[]\n",
        "    for i in range(len(lf)):\n",
        "      for j in range(len(lf[i])):\n",
        "        l.append(lf[i][j])\n",
        "\n",
        "    return node_coords, p_elem2nodes, elem2nodes,l\n",
        "\n",
        "\n",
        "def run_exercise_a():\n",
        "    \"\"\"Generate grid with quadrangles.\n",
        "    \"\"\"\n",
        "    xmin, xmax, ymin, ymax = 0.0, 1.0, 0.0, 1.0\n",
        "    n =64\n",
        "    nelemsx, nelemsy = n,n\n",
        "    nelems = nelemsx * nelemsy\n",
        "    nnodes = (nelemsx + 1) * (nelemsy + 1)\n",
        "\n",
        "    node_coords, node_l2g, p_elem2nodes, elem2nodes = solutions._set_quadmesh(xmin, xmax, ymin, ymax, nelemsx, nelemsy)\n",
        "\n",
        "    # -- plot mesh\n",
        "    fig = matplotlib.pyplot.figure(1)\n",
        "    ax = matplotlib.pyplot.subplot(1, 1, 1)\n",
        "    ax.set_aspect('equal')\n",
        "    ax.axis('off')\n",
        "    lf0 = [n-1+ i*n for i in range(n)]\n",
        "    node_coords, p_elem2nodes, elem2nodes,lf0= fract(node_coords, p_elem2nodes, elem2nodes, n,lf0,0)\n",
        "    node_coords, p_elem2nodes, elem2nodes,lf0= fract(node_coords, p_elem2nodes, elem2nodes, n,lf0,1)\n",
        "    node_coords, p_elem2nodes, elem2nodes,lf0= fract(node_coords, p_elem2nodes, elem2nodes, n,lf0,2)\n",
        "\n",
        "\n",
        "\n",
        "\n",
        "    solutions._plot_mesh(p_elem2nodes, elem2nodes, node_coords, color='yellow')\n",
        "\n",
        "    #Plot Boundary\n",
        "\n",
        "    #for i in range(len(lf0)):\n",
        "       # solutions._plot_elem(p_elem2nodes, elem2nodes, node_coords, lf0[i], color='orange')\n",
        "\n",
        "    return\n",
        "\n",
        "\n",
        "\n",
        "if __name__ == '__main__':\n",
        "    run_exercise_a()\n",
        "    print('End.')\n"
      ],
      "metadata": {
        "colab": {
          "base_uri": "https://localhost:8080/",
          "height": 423
        },
        "id": "U3UaIYa5Iz8z",
        "outputId": "80640131-8a18-4abf-8fd2-949392a307ca"
      },
      "execution_count": null,
      "outputs": [
        {
          "output_type": "stream",
          "name": "stdout",
          "text": [
            "End.\n"
          ]
        },
        {
          "output_type": "display_data",
          "data": {
            "text/plain": [
              "<Figure size 640x480 with 1 Axes>"
            ],
            "image/png": "[encoded data removed]"
          },
          "metadata": {}
        }
      ]
    },
    {
      "cell_type": "markdown",
      "source": [
        "I construct the boundary in an iterative manner. Creating a function to determine the elements of the boundary would result in high complexity (the naive version is O(n**2)). Instead, I propose determining the boundary while modifying it. `lf0` gives the `element_id` of the n elements that exist in the west boundary. `lf0` is updated while modifying the boundary. Using this method, we do not add complexity."
      ],
      "metadata": {
        "id": "MB__ngWiWlw_"
      }
    }
  ]
}